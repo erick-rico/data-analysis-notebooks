{
 "cells": [
  {
   "cell_type": "markdown",
   "id": "4ab72648",
   "metadata": {},
   "source": [
    "# Air Quality in Beijing"
   ]
  },
  {
   "cell_type": "markdown",
   "id": "5248e1eb",
   "metadata": {},
   "source": [
    "## Initial Data Exploration and Cleaning"
   ]
  },
  {
   "cell_type": "code",
   "execution_count": null,
   "id": "27245126",
   "metadata": {},
   "outputs": [],
   "source": [
    "#-----------------------------------------------------------------------------------------\n",
    "# Name:        Practice Day 7\n",
    "# Author:      Erick Rico\n",
    "# Created:     09/08/2025\n",
    "#-----------------------------------------------------------------------------------------"
   ]
  },
  {
   "cell_type": "markdown",
   "id": "96e89cf6",
   "metadata": {},
   "source": [
    "#### Configuración del entorno:"
   ]
  },
  {
   "cell_type": "code",
   "execution_count": 2,
   "id": "f3ef2c12",
   "metadata": {},
   "outputs": [],
   "source": [
    "import numpy as np\n",
    "import pandas as pd"
   ]
  },
  {
   "cell_type": "code",
   "execution_count": 3,
   "id": "aa45848f",
   "metadata": {},
   "outputs": [],
   "source": [
    "df = pd.read_csv(\"data-pm2.5.csv\")"
   ]
  },
  {
   "cell_type": "markdown",
   "id": "2c60dda4",
   "metadata": {},
   "source": [
    "#### Conversión a NumPy:"
   ]
  },
  {
   "cell_type": "code",
   "execution_count": 4,
   "id": "0d66cbf7",
   "metadata": {},
   "outputs": [
    {
     "data": {
      "text/plain": [
       "Index(['No', 'year', 'month', 'day', 'hour', 'pm2.5', 'DEWP', 'TEMP', 'PRES',\n",
       "       'cbwd', 'Iws', 'Is', 'Ir'],\n",
       "      dtype='object')"
      ]
     },
     "execution_count": 4,
     "metadata": {},
     "output_type": "execute_result"
    }
   ],
   "source": [
    "df.columns"
   ]
  },
  {
   "cell_type": "code",
   "execution_count": 8,
   "id": "c4b660f8",
   "metadata": {},
   "outputs": [
    {
     "data": {
      "text/plain": [
       "array([nan, nan, nan, ..., 10.,  8., 12.])"
      ]
     },
     "execution_count": 8,
     "metadata": {},
     "output_type": "execute_result"
    }
   ],
   "source": [
    "arr_pm = df[\"pm2.5\"].values\n",
    "arr_pm"
   ]
  },
  {
   "cell_type": "code",
   "execution_count": 9,
   "id": "e667aa40",
   "metadata": {},
   "outputs": [
    {
     "data": {
      "text/plain": [
       "array([-11., -12., -11., ...,  -3.,  -4.,  -3.])"
      ]
     },
     "execution_count": 9,
     "metadata": {},
     "output_type": "execute_result"
    }
   ],
   "source": [
    "arr_temp = df[\"TEMP\"].to_numpy()\n",
    "arr_temp"
   ]
  },
  {
   "cell_type": "markdown",
   "id": "a26f5c89",
   "metadata": {},
   "source": [
    "#### Cálculos Vectorizados (sin bucles):"
   ]
  },
  {
   "cell_type": "code",
   "execution_count": 12,
   "id": "b56e140d",
   "metadata": {},
   "outputs": [
    {
     "name": "stdout",
     "output_type": "stream",
     "text": [
      "98.61321455085375\n",
      "92.04928496759753\n",
      "994.0\n"
     ]
    }
   ],
   "source": [
    "print(np.nanmean(arr_pm))\n",
    "print(np.nanstd(arr_pm))\n",
    "print(np.nanmax(arr_pm))"
   ]
  },
  {
   "cell_type": "code",
   "execution_count": 11,
   "id": "c2e95e88",
   "metadata": {},
   "outputs": [
    {
     "data": {
      "text/plain": [
       "count    41757.000000\n",
       "mean        98.613215\n",
       "std         92.050387\n",
       "min          0.000000\n",
       "25%         29.000000\n",
       "50%         72.000000\n",
       "75%        137.000000\n",
       "max        994.000000\n",
       "Name: pm2.5, dtype: float64"
      ]
     },
     "execution_count": 11,
     "metadata": {},
     "output_type": "execute_result"
    }
   ],
   "source": [
    "df[\"pm2.5\"].describe()"
   ]
  },
  {
   "cell_type": "markdown",
   "id": "e3af4009",
   "metadata": {},
   "source": [
    "##### Normalización:"
   ]
  },
  {
   "cell_type": "code",
   "execution_count": 25,
   "id": "bf2ce2ec",
   "metadata": {},
   "outputs": [
    {
     "data": {
      "text/plain": [
       "array([       nan,        nan,        nan, ..., 0.01006036, 0.00804829,\n",
       "       0.01207243])"
      ]
     },
     "execution_count": 25,
     "metadata": {},
     "output_type": "execute_result"
    }
   ],
   "source": [
    "(arr_pm - np.nanmin(arr_pm)) / (np.nanmax(arr_pm) - np.nanmin(arr_pm))"
   ]
  },
  {
   "cell_type": "code",
   "execution_count": 14,
   "id": "6e58708f",
   "metadata": {},
   "outputs": [],
   "source": [
    "arr_pm_clean = arr_pm[~np.isnan(arr_pm)]"
   ]
  },
  {
   "cell_type": "code",
   "execution_count": 24,
   "id": "05bdc873",
   "metadata": {},
   "outputs": [
    {
     "data": {
      "text/plain": [
       "array([0.12977867, 0.14889336, 0.15995976, ..., 0.01006036, 0.00804829,\n",
       "       0.01207243])"
      ]
     },
     "execution_count": 24,
     "metadata": {},
     "output_type": "execute_result"
    }
   ],
   "source": [
    "norm_pm = (arr_pm_clean - np.min(arr_pm_clean)) / (np.max(arr_pm_clean) - np.min(arr_pm_clean))\n",
    "norm_pm"
   ]
  },
  {
   "cell_type": "markdown",
   "id": "f56ce661",
   "metadata": {},
   "source": [
    "##### Comparación:"
   ]
  },
  {
   "cell_type": "code",
   "execution_count": 16,
   "id": "a7875874",
   "metadata": {},
   "outputs": [
    {
     "data": {
      "text/plain": [
       "array([ True,  True,  True, ..., False, False, False])"
      ]
     },
     "execution_count": 16,
     "metadata": {},
     "output_type": "execute_result"
    }
   ],
   "source": [
    "filtro = arr_pm_clean > 50\n",
    "filtro"
   ]
  },
  {
   "cell_type": "code",
   "execution_count": 18,
   "id": "d31473e4",
   "metadata": {},
   "outputs": [
    {
     "data": {
      "text/plain": [
       "array([129., 148., 159., ...,  60.,  63.,  79.])"
      ]
     },
     "execution_count": 18,
     "metadata": {},
     "output_type": "execute_result"
    }
   ],
   "source": [
    "arr_pm_mayor_50 = arr_pm_clean[filtro]\n",
    "arr_pm_mayor_50"
   ]
  },
  {
   "cell_type": "markdown",
   "id": "56463395",
   "metadata": {},
   "source": [
    "#### Comparación de rendimiento:"
   ]
  },
  {
   "cell_type": "code",
   "execution_count": 23,
   "id": "d3eec524",
   "metadata": {},
   "outputs": [
    {
     "name": "stdout",
     "output_type": "stream",
     "text": [
      "2.22 ms ± 183 μs per loop (mean ± std. dev. of 7 runs, 100 loops each)\n"
     ]
    }
   ],
   "source": [
    "%%timeit\n",
    "i = 0\n",
    "for j in arr_pm_mayor_50:\n",
    "    i += j\n",
    "avg = i / len(arr_pm_mayor_50)\n",
    "avg"
   ]
  },
  {
   "cell_type": "code",
   "execution_count": 22,
   "id": "a64482bd",
   "metadata": {},
   "outputs": [
    {
     "name": "stdout",
     "output_type": "stream",
     "text": [
      "12 μs ± 849 ns per loop (mean ± std. dev. of 7 runs, 100,000 loops each)\n"
     ]
    }
   ],
   "source": [
    "%timeit np.mean(arr_pm_mayor_50)"
   ]
  },
  {
   "cell_type": "code",
   "execution_count": null,
   "id": "4810a1ec",
   "metadata": {},
   "outputs": [],
   "source": []
  }
 ],
 "metadata": {
  "kernelspec": {
   "display_name": "base",
   "language": "python",
   "name": "python3"
  },
  "language_info": {
   "codemirror_mode": {
    "name": "ipython",
    "version": 3
   },
   "file_extension": ".py",
   "mimetype": "text/x-python",
   "name": "python",
   "nbconvert_exporter": "python",
   "pygments_lexer": "ipython3",
   "version": "3.13.5"
  }
 },
 "nbformat": 4,
 "nbformat_minor": 5
}
